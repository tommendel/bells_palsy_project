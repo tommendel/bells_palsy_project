{
 "cells": [
  {
   "cell_type": "code",
   "execution_count": 29,
   "metadata": {},
   "outputs": [],
   "source": [
    "# import OpenCV path\n",
    "import sys\n",
    "sys.path.append('C:/Users/user/Anaconda3/envs/opencv-env/Lib/site-packages')"
   ]
  },
  {
   "cell_type": "code",
   "execution_count": 30,
   "metadata": {},
   "outputs": [],
   "source": [
    "# import the necessary packages\n",
    "from scipy.spatial import distance as dist\n",
    "from imutils.video import FileVideoStream\n",
    "from imutils.video import VideoStream\n",
    "from imutils import face_utils\n",
    "import numpy as np\n",
    "import argparse\n",
    "import imutils\n",
    "import time\n",
    "import dlib\n",
    "import cv2"
   ]
  },
  {
   "cell_type": "code",
   "execution_count": 31,
   "metadata": {},
   "outputs": [],
   "source": [
    "def eye_aspect_ratio(eye):\n",
    "    # compute the euclidean distances between the two sets of\n",
    "    # vertical eye landmarks (x, y)-coordinates\n",
    "    A = dist.euclidean(eye[1], eye[5])\n",
    "    B = dist.euclidean(eye[2], eye[4])\n",
    "\n",
    "    # compute the euclidean distance between the horizontal\n",
    "    # eye landmark (x, y)-coordinates\n",
    "    C = dist.euclidean(eye[0], eye[3])\n",
    "\n",
    "    # compute the eye aspect ratio\n",
    "    ear = (A + B) / (2.0 * C)\n",
    "\n",
    "    # return the eye aspect ratio\n",
    "    return ear"
   ]
  },
  {
   "cell_type": "code",
   "execution_count": 88,
   "metadata": {},
   "outputs": [],
   "source": [
    "from sklearn.linear_model import LinearRegression\n",
    "from sklearn.metrics import r2_score\n",
    "\n",
    "def calc_r2(eye):\n",
    "    # calcaute the R^2 score for P1, P2, P3 and P4\n",
    "    x = eye[0:4,0]\n",
    "    y = eye[0:4,1]\n",
    "    X = x[:, np.newaxis]\n",
    "    #print(X.shape)\n",
    "    linreg = LinearRegression()\n",
    "    linreg.fit(X,y)\n",
    "    y_pred = linreg.predict(X)\n",
    "    return 1 - r2_score(y, y_pred)"
   ]
  },
  {
   "cell_type": "code",
   "execution_count": 89,
   "metadata": {},
   "outputs": [],
   "source": [
    "# calculate the matched elipse area\n",
    "def calc_ellipse_area(eye):\n",
    "    (xe, ye), (MA, ma), angle = cv2.fitEllipse(eye)\n",
    "    A = np.pi * MA * ma\n",
    "    return A"
   ]
  },
  {
   "cell_type": "code",
   "execution_count": 90,
   "metadata": {},
   "outputs": [],
   "source": [
    "# normalized the current frame score based on the latest scores\n",
    "def normalize_frame_score(curr_score, min_score, max_score):\n",
    "    normalized_score = (curr_score - min_score) / (max_score - min_score)\n",
    "    return normalized_score    "
   ]
  },
  {
   "cell_type": "code",
   "execution_count": 91,
   "metadata": {},
   "outputs": [],
   "source": [
    "# calculate the area of a polygon defined by (x,y) coordinates using Shoelace formula\n",
    "def poly_area(eye):\n",
    "    x = eye[:,0]\n",
    "    y = eye[:,1]\n",
    "    return 0.5*np.abs(np.dot(x,np.roll(y,1))-np.dot(y,np.roll(x,1)))"
   ]
  },
  {
   "cell_type": "code",
   "execution_count": 92,
   "metadata": {},
   "outputs": [],
   "source": [
    "# define two constants, one for the eye aspect ratio to indicate\n",
    "# blink and then a second constant for the number of consecutive\n",
    "# frames the eye must be below the threshold\n",
    "EYE_AR_THRESH = 0.7\n",
    "EYE_AR_CONSEC_FRAMES = 3"
   ]
  },
  {
   "cell_type": "code",
   "execution_count": 93,
   "metadata": {},
   "outputs": [],
   "source": [
    "# initialize the frame counters and the total number of blinks\n",
    "COUNTER = 0\n",
    "TOTAL = 0"
   ]
  },
  {
   "cell_type": "code",
   "execution_count": 94,
   "metadata": {},
   "outputs": [],
   "source": [
    "# initialize dlib's face detector (HOG-based) and then create\n",
    "# the facial landmark predictor\n",
    "detector = dlib.get_frontal_face_detector()\n",
    "predictor = dlib.shape_predictor('shape_predictor_68_face_landmarks.dat')"
   ]
  },
  {
   "cell_type": "code",
   "execution_count": 95,
   "metadata": {},
   "outputs": [],
   "source": [
    "# grab the indexes of the facial landmarks for the left and\n",
    "# right eye, respectively\n",
    "(lStart, lEnd) = face_utils.FACIAL_LANDMARKS_IDXS[\"left_eye\"]\n",
    "(rStart, rEnd) = face_utils.FACIAL_LANDMARKS_IDXS[\"right_eye\"]"
   ]
  },
  {
   "cell_type": "code",
   "execution_count": 114,
   "metadata": {},
   "outputs": [
    {
     "name": "stdout",
     "output_type": "stream",
     "text": [
      "[INFO] starting video stream thread...\n"
     ]
    }
   ],
   "source": [
    "VIDEO_NAME = 'bells_palsy_5'\n",
    "FEATURE_NAME = 'ear'\n",
    "FPS = 25\n",
    "WINDOW_LENGTH = 2 # in seconds\n",
    "HEALTHY_EYE = 'LEFT'\n",
    "\n",
    "VIDEO_PATH = VIDEO_NAME + '.mp4'\n",
    "WINDOW_SIZE = FPS * WINDOW_LENGTH # in frames\n",
    "\n",
    "# start the video stream thread\n",
    "print(\"[INFO] starting video stream thread...\")\n",
    "vs = FileVideoStream(VIDEO_PATH).start()\n",
    "fileStream = True\n",
    "# vs = VideoStream(src=0).start()\n",
    "# vs = VideoStream(usePiCamera=True).start()\n",
    "# fileStream = False\n",
    "time.sleep(1.0)\n",
    "\n",
    "# initialize lists of EAR scores for both eyes\n",
    "left_scores = []\n",
    "right_scores = []\n",
    "\n",
    "normalized_left_scores = []\n",
    "normalized_right_scores = []\n",
    "final_scores = []\n",
    "\n",
    "frame_num = 0\n",
    "# loop over frames from the video stream\n",
    "while True:\n",
    "    # if this is a file video stream, then we need to check if\n",
    "    # there any more frames left in the buffer to process\n",
    "    if fileStream and not vs.more():\n",
    "        break\n",
    "\n",
    "    # grab the frame from the threaded video file stream, resize\n",
    "    # it, and convert it to grayscale\n",
    "    # channels)\n",
    "    frame = vs.read()\n",
    "    frame = imutils.resize(frame, width=450)\n",
    "    gray = cv2.cvtColor(frame, cv2.COLOR_BGR2GRAY)\n",
    "\n",
    "    # detect faces in the grayscale frame\n",
    "    rects = detector(gray, 0)\n",
    "    \n",
    "    # loop over the face detections\n",
    "    for rect in rects:\n",
    "        # determine the facial landmarks for the face region, then\n",
    "        # convert the facial landmark (x, y)-coordinates to a NumPy\n",
    "        # array\n",
    "        shape = predictor(gray, rect)\n",
    "        shape = face_utils.shape_to_np(shape)\n",
    "        \n",
    "        # plot the descriptor for each frame\n",
    "        for (x,y) in shape:\n",
    "            cv2.circle(frame, (x,y), 1, (0,0,255), -1)\n",
    "        \n",
    "\n",
    "        # extract the left and right eye coordinates, then use the\n",
    "        # coordinates to compute the eye aspect ratio for both eyes\n",
    "        leftEye = shape[lStart:lEnd]\n",
    "        rightEye = shape[rStart:rEnd]\n",
    "        \n",
    "        \n",
    "        if FEATURE_NAME == 'ear':\n",
    "            feature_left = eye_aspect_ratio(leftEye)\n",
    "            feature_right = eye_aspect_ratio(rightEye)\n",
    "        \n",
    "        if FEATURE_NAME == 'linreg':\n",
    "            feature_right = calc_r2(rightEye)\n",
    "            feature_left  = calc_r2(leftEye)\n",
    "        \n",
    "        if FEATURE_NAME == 'ellipse':\n",
    "            feature_right = calc_ellipse_area(rightEye)\n",
    "            feature_left = calc_ellipse_area(leftEye)\n",
    "            \n",
    "            # Upper Parabola\n",
    "            #p = np.polyfit(rightEye[0:4,0],rightEye[0:4,1],2)\n",
    "            #x_right = range(rightEye[0,0],rightEye[3,0]+1)\n",
    "            #y_right = np.zeros(len(x_right)).astype(int)\n",
    "            \n",
    "            #for i in range(len(x_right)):\n",
    "            #    y_right[i] = p[2] + p[1] * x_right[i] + p[0] * (x_right[i] ** 2)\n",
    "            \n",
    "            #y_right = np.rint(y_right).astype(int)\n",
    "            #area_up = np.trapz(y_right, dx=1)\n",
    "            \n",
    "            #print(area_up)\n",
    "            \n",
    "            #for i in range(len(y_right)):\n",
    "            #    cv2.circle(frame,(x_right[i],y_right[i]), 1, (0,255,0), -1)\n",
    "                \n",
    "            # Lower Parabola\n",
    "            #points = np.delete(rightEye, [1,2], axis=0)\n",
    "            #print(points)\n",
    "            #p = np.polyfit(points[:,0],points[:,1],2)\n",
    "            #x_right = range(rightEye[0,0],rightEye[3,0]+1)\n",
    "            #y_right = np.zeros(len(x_right)).astype(int)\n",
    "            \n",
    "            #for i in range(len(x_right)):\n",
    "            #    y_right[i] = p[2] + p[1] * x_right[i] + p[0] * (x_right[i] ** 2)\n",
    "            \n",
    "            #y_right = np.rint(y_right).astype(int)\n",
    "            #area_down = np.trapz(y_right, dx=1)\n",
    "            #print(area_down)\n",
    "            \n",
    "            #for i in range(len(y_right)):\n",
    "            #    cv2.circle(frame,(x_right[i],y_right[i]), 1, (0,0,255), -1)              \n",
    "            \n",
    "            cv2.ellipse(frame,cv2.fitEllipse(leftEye), (0, 255, 0))\n",
    "            cv2.ellipse(frame,cv2.fitEllipse(rightEye), (0, 255, 0))\n",
    "        \n",
    "        if FEATURE_NAME == 'poly':\n",
    "            feature_right = poly_area(rightEye)\n",
    "            feature_left = poly_area(leftEye)\n",
    "            \n",
    "        # Append the scores of the left and right eye\n",
    "        left_scores.append(feature_left)\n",
    "        right_scores.append(feature_right)\n",
    "        \n",
    "        if frame_num > WINDOW_SIZE:\n",
    "            \n",
    "            if frame_num == WINDOW_SIZE + 1:\n",
    "                min_left  = min(left_scores[:WINDOW_SIZE+1])\n",
    "                max_left  = max(left_scores[:WINDOW_SIZE+1])\n",
    "                min_right = min(right_scores[:WINDOW_SIZE+1])\n",
    "                max_right = max(right_scores[:WINDOW_SIZE+1])\n",
    "            else:\n",
    "                min_left  = min(min_left,feature_left)\n",
    "                max_left  = max(max_left,feature_left)\n",
    "                min_right = min(min_right,feature_right)\n",
    "                max_right = max(max_right,feature_right)\n",
    "            \n",
    "            if HEALTHY_EYE == 'LEFT':\n",
    "                min_feature = min_left\n",
    "                #normalized_feature_left = normalize_frame_score(left_scores[(frame_num - WINDOW_SIZE - 1) : frame_num + 1], feature_left)\n",
    "                #normalized_feature_right = normalize_frame_score(left_scores[(frame_num - WINDOW_SIZE - 1) : frame_num + 1], feature_right)\n",
    "            else:\n",
    "                min_feature = min_right\n",
    "                #normalized_feature_left = normalize_frame_score(right_scores[(frame_num - WINDOW_SIZE - 1) : frame_num + 1], feature_left)\n",
    "                #normalized_feature_right = normalize_frame_score(right_scores[(frame_num - WINDOW_SIZE - 1) : frame_num + 1], feature_right)\n",
    "            normalized_feature_left = normalize_frame_score(feature_left, min_feature, max_left)\n",
    "            normalized_feature_right = normalize_frame_score(feature_right, min_feature, max_right)\n",
    "                        \n",
    "            final_scores.append(np.abs(feature_left - feature_right))\n",
    "        else:\n",
    "            normalized_feature_left = -1\n",
    "            normalized_feature_right = -1\n",
    "            final_scores.append(-1)\n",
    "            \n",
    "        # Display current frame scores\n",
    "        normalized_left_scores.append(normalized_feature_left)\n",
    "        cv2.putText(frame, \"LEFT: {:.2f}\".format(normalized_feature_left), (165, 30),\n",
    "        cv2.FONT_HERSHEY_SIMPLEX, 0.5, (0, 0, 255), 2)\n",
    "                \n",
    "        normalized_right_scores.append(normalized_feature_right)\n",
    "        cv2.putText(frame, \"RIGHT: {:.2f}\".format(normalized_feature_right), (300, 30),\n",
    "        cv2.FONT_HERSHEY_SIMPLEX, 0.5, (0, 0, 255), 2)\n",
    "        \n",
    "        # Calculate and show elapsed time\n",
    "        elapsed_time = frame_num / FPS\n",
    "        cv2.putText(frame, \"Time {:.2f}\".format(elapsed_time), (10, 30),\n",
    "        cv2.FONT_HERSHEY_SIMPLEX, 0.5, (0, 0, 255), 2)\n",
    "            \n",
    "    \n",
    "    frame_path = str('%s/%s/frame_%d.jpg' %(VIDEO_NAME, FEATURE_NAME, frame_num))\n",
    "    cv2.imwrite(frame_path, frame)\n",
    "    frame_num = frame_num + 1\n",
    "\n",
    "vs.stop()\n"
   ]
  },
  {
   "cell_type": "code",
   "execution_count": 116,
   "metadata": {},
   "outputs": [
    {
     "data": {
      "text/plain": [
       "Text(0.5,0,'Time[sec]')"
      ]
     },
     "execution_count": 116,
     "metadata": {},
     "output_type": "execute_result"
    },
    {
     "data": {
      "image/png": "[encoded data removed]",
      "text/plain": [
       "<matplotlib.figure.Figure at 0x2aa05a9d748>"
      ]
     },
     "metadata": {},
     "output_type": "display_data"
    }
   ],
   "source": [
    "import matplotlib.pyplot as plt\n",
    "%matplotlib inline\n",
    "\n",
    "num_frames = len(left_scores)\n",
    "t = np.linspace(0,num_frames/FPS,num_frames)\n",
    "\n",
    "plt.subplot(2,1,1)\n",
    "plt.plot(t[WINDOW_SIZE+1:],normalized_left_scores[WINDOW_SIZE+1:])\n",
    "plt.ylabel('Left Eye Area')\n",
    "plt.xlabel('Time[sec]')\n",
    "\n",
    "plt.subplot(2,1,2)\n",
    "plt.plot(t[WINDOW_SIZE+1:],normalized_right_scores[WINDOW_SIZE+1:])\n",
    "plt.ylabel('Right Eye Area')\n",
    "plt.xlabel('Time[sec]')\n",
    "\n",
    "#plt.subplot(3,1,3)\n",
    "#plt.plot(t,final_scores)\n",
    "#plt.ylabel('Final Scores')\n",
    "#plt.xlabel('Time[sec]')"
   ]
  },
  {
   "cell_type": "code",
   "execution_count": null,
   "metadata": {},
   "outputs": [],
   "source": []
  }
 ],
 "metadata": {
  "kernelspec": {
   "display_name": "Python 3",
   "language": "python",
   "name": "python3"
  },
  "language_info": {
   "codemirror_mode": {
    "name": "ipython",
    "version": 3
   },
   "file_extension": ".py",
   "mimetype": "text/x-python",
   "name": "python",
   "nbconvert_exporter": "python",
   "pygments_lexer": "ipython3",
   "version": "3.6.4"
  }
 },
 "nbformat": 4,
 "nbformat_minor": 2
}
